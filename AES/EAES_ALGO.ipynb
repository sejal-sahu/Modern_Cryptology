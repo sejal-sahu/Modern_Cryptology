{
 "cells": [
  {
   "attachments": {},
   "cell_type": "markdown",
   "metadata": {},
   "source": [
    "CS641 Assignment 5"
   ]
  },
  {
   "cell_type": "code",
   "execution_count": null,
   "metadata": {},
   "outputs": [],
   "source": [
    "from pyfinite import ffield \n",
    "import numpy as np\n",
    "import random"
   ]
  },
  {
   "cell_type": "code",
   "execution_count": null,
   "metadata": {},
   "outputs": [],
   "source": [
    "#charcters used in output are from f to u, so f is 0000 and so on 16 values\n",
    "bin_char = {'0000': 'f','0001': 'g','0010': 'h','0011': 'i','0100': 'j','0101': 'k','0110': 'l','0111': 'm','1000': 'n','1001': 'o','1010': 'p','1011': 'q','1100': 'r','1101': 's','1110': 't','1111': 'u'}\n",
    "F = ffield.FField(7) #2^7 element field\n",
    "plain = open(\"plaintext.txt\", 'r')\n",
    "cipher = open(\"ciphertext.txt\", 'r')"
   ]
  },
  {
   "cell_type": "code",
   "execution_count": null,
   "metadata": {},
   "outputs": [],
   "source": [
    "def Fexp(b,e):  #Exponential function in fields\n",
    "    result = 1\n",
    "    for _ in range(e):\n",
    "        result = F.Multiply(result,b)\n",
    "    return result"
   ]
  },
  {
   "cell_type": "code",
   "execution_count": null,
   "metadata": {},
   "outputs": [],
   "source": [
    "#blocks to hex values\n",
    "def block_to_byte(block):\n",
    "    result = \"\"\n",
    "    for i in range(0, len(block), 2):\n",
    "        byte = block[i:i+2]\n",
    "        char = chr(16 * (ord(byte[0]) - ord('f')) + ord(byte[1]) - ord('f'))\n",
    "        result += char\n",
    "    return result"
   ]
  },
  {
   "cell_type": "code",
   "execution_count": null,
   "metadata": {},
   "outputs": [],
   "source": [
    "#similar to above, takes hex values and depending on flag adds first or second part to the result\n",
    "def hex_values(input_line, index, flag):\n",
    "    result = []\n",
    "    for hex_value in input_line.strip().split(\" \"):\n",
    "        temp_string = \"\"\n",
    "        for i in range(0, len(hex_value), 2):\n",
    "            byte = hex_value[i:i+2]\n",
    "            char = chr(16 * (ord(byte[0]) - ord('f')) + ord(byte[1]) - ord('f'))\n",
    "            temp_string += char\n",
    "        if flag:\n",
    "            result.append(temp_string[index+1])\n",
    "        else:\n",
    "            result.append(temp_string[index])\n",
    "    return result"
   ]
  },
  {
   "cell_type": "code",
   "execution_count": null,
   "metadata": {},
   "outputs": [],
   "source": [
    "def cryptanalysis(plaintext, lin_mat, exp_mat):\n",
    "    # Convert plaintext characters to their ASCII codes\n",
    "    plaintext = [ord(c) for c in plaintext]\n",
    "    \n",
    "    # Initialize output matrix\n",
    "    Output = [[0 for j in range (8)] for i in range(8)]\n",
    "    \n",
    "    # Apply Fexp function to each element of plaintext using corresponding element from exp_mat\n",
    "    for index, elem in enumerate(plaintext):\n",
    "        Output[0][index] = Fexp(elem, exp_mat[index])\n",
    "    \n",
    "    # Perform linear transformation on lin_mat and Output[0]\n",
    "    mat = lin_mat\n",
    "    elist = Output[0]\n",
    "    result = [0, 0, 0, 0, 0, 0, 0, 0]\n",
    "    for row, elem in zip(mat, elist):\n",
    "        temp_res = [0, 0, 0, 0, 0, 0, 0, 0]\n",
    "        for i, e in enumerate(row):\n",
    "            temp_res[i] = F.Multiply(e, elem)\n",
    "        temp_result = [0, 0, 0, 0, 0, 0, 0, 0]\n",
    "        for i, (e1, e2) in enumerate(zip(temp_res, result)):\n",
    "            temp_result[i] = int(e1) ^ int(e2)\n",
    "        result = temp_result\n",
    "    Output[1] = result\n",
    "    \n",
    "    # Apply Fexp function to each element of Output[1] using corresponding element from exp_mat\n",
    "    for index, elem in enumerate(Output[1]):\n",
    "        Output[2][index] = Fexp(elem, exp_mat[index])\n",
    "    \n",
    "    # Perform linear transformation on lin_mat and Output[2]\n",
    "    mat = lin_mat\n",
    "    elist = Output[2]\n",
    "    result = [0,0,0,0,0,0,0,0]\n",
    "    for row, elem in zip(mat, elist):\n",
    "        temp_res = [0,0,0,0,0,0,0,0]\n",
    "        for i, e in enumerate(row):\n",
    "            temp_res[i] = F.Multiply(e, elem)\n",
    "        temp_result = [0,0,0,0,0,0,0,0]\n",
    "        for i, (e1, e2) in enumerate(zip(temp_res, result)):\n",
    "            temp_result[i] = int(e1) ^ int(e2)\n",
    "        result = temp_result\n",
    "    Output[3] = result\n",
    "\n",
    "    # Apply Fexp function to each element of Output[1] using corresponding element from exp_mat\n",
    "    for ind, elem in enumerate(Output[3]):\n",
    "        Output[4][ind] = Fexp(elem, exp_mat[ind])\n",
    "        \n",
    "    return Output[4]"
   ]
  },
  {
   "cell_type": "code",
   "execution_count": null,
   "metadata": {},
   "outputs": [],
   "source": [
    "def find_block_values():\n",
    "    #store possible values for exponentiation and Linear transformation function\n",
    "    E = [[] for _ in range(8)]\n",
    "    A = [[[] for _ in range(8)] for _ in range(8)]\n",
    "    \n",
    "    for index, (i, o) in enumerate(zip(plain.readlines(), cipher.readlines())):\n",
    "        #convert into hex\n",
    "        i_hex = hex_values(i, index, False)\n",
    "        o_hex = hex_values(o, index, False)\n",
    "        for i in range(1, 127):\n",
    "            for j in range(1, 128):\n",
    "                flag = True\n",
    "                for input_value, output_value in zip(i_hex, o_hex):\n",
    "                    temp1 = Fexp(ord(input_value), i)\n",
    "                    temp2 = Fexp(F.Multiply(temp1, j), i)\n",
    "                    temp3 = Fexp(F.Multiply(temp2, j), i)\n",
    "                    if ord(output_value) != temp3:\n",
    "                        flag = False\n",
    "                        break\n",
    "                if flag:\n",
    "                    E[index].append(i)\n",
    "                    A[index][index].append(j)\n",
    "    return A, E\n",
    "A,E = find_block_values()"
   ]
  },
  {
   "cell_type": "code",
   "execution_count": null,
   "metadata": {},
   "outputs": [],
   "source": [
    "A"
   ]
  },
  {
   "cell_type": "code",
   "execution_count": null,
   "metadata": {},
   "outputs": [],
   "source": [
    "E"
   ]
  },
  {
   "cell_type": "code",
   "execution_count": null,
   "metadata": {},
   "outputs": [],
   "source": [
    "def find_matrix():\n",
    "    for index, (input_line, output_line) in enumerate(zip(plain.readlines(), cipher.readlines())):\n",
    "        if index > 6:\n",
    "            break\n",
    "        input_hex_values = hex_values(input_line, index, False)\n",
    "        output_hex_values = hex_values(output_line, index, True)\n",
    "            \n",
    "        for i in range(1, 128):\n",
    "            for p1, e1 in zip(E[index + 1], A[index + 1][index + 1]):\n",
    "                for p2, e2 in zip(E[index], A[index][index]):\n",
    "                    flag = True\n",
    "                    for input_value, output_value in zip(input_hex_values, output_hex_values):\n",
    "                        temp1 = Fexp(ord(input_value), p2)\n",
    "                        temp2 = F.Multiply(temp1, e2)\n",
    "                        temp3 = Fexp(temp2, p2)\n",
    "                        temp4 = F.Multiply(temp3, i) \n",
    "                        temp5 = F.Multiply(Fexp(F.Multiply(Fexp(ord(input_value), p2), i), p1), e1)\n",
    "                        if ord(output_value) != Fexp(int(temp4) ^ int(temp5), p1):\n",
    "                            flag = False\n",
    "                            break\n",
    "                    if flag:\n",
    "                        E[index + 1] = [p1]\n",
    "                        A[index + 1][index + 1] = [e1]\n",
    "                        E[index] = [p2]\n",
    "                        A[index][index] = [e2]\n",
    "                        A[index][index + 1] = [i]\n",
    "    return A, E\n"
   ]
  },
  {
   "cell_type": "code",
   "execution_count": null,
   "metadata": {},
   "outputs": [],
   "source": [
    "def final_mv(A, E):\n",
    "    for index in range(6):\n",
    "        offset = index + 2\n",
    "        exp_list = [e[0] for e in E]\n",
    "        lin_trans_list = [[0 for i in range(8)] for j in range(8)]\n",
    "        for i in range(8):\n",
    "            for j in range(8):\n",
    "                lin_trans_list[i][j] = 0 if len(A[i][j]) == 0 else A[i][j][0]\n",
    "        \n",
    "        for ind, (input_line, output_line) in enumerate(zip(plain.readlines(), cipher.readlines())):\n",
    "            if ind > (7 - offset):\n",
    "                continue\n",
    "            input_values = []\n",
    "            for msg in input_line.strip().split(\" \"):\n",
    "                input_values.append(block_to_byte(msg))\n",
    "            output_values = []\n",
    "            for msg in output_line.strip().split(\" \"):\n",
    "                output_values.append(block_to_byte(msg))\n",
    "         \n",
    "            for i in range(1, 128):\n",
    "                lin_trans_list[ind][ind + offset] = i\n",
    "                flag = True\n",
    "                for input_value, output_value in zip(input_values, output_values):\n",
    "                    if cryptanalysis(input_value, lin_trans_list, exp_list)[ind + offset] != ord(output_value[ind + offset]):\n",
    "                        flag = False\n",
    "                        break\n",
    "                if flag:\n",
    "                    A[ind][ind + offset] = [i]\n",
    "    return A, exp_list"
   ]
  },
  {
   "cell_type": "code",
   "execution_count": null,
   "metadata": {},
   "outputs": [],
   "source": [
    "A,E=find_matrix()\n",
    "A,E=final_mv(A,E)\n",
    "lin_trans_list = [[0 for i in range(8)] for j in range(8)]\n",
    "for i in range(8):\n",
    "    for j in range(8):\n",
    "        lin_trans_list[i][j] = 0 if len(A[i][j]) == 0 else A[i][j][0]"
   ]
  },
  {
   "cell_type": "code",
   "execution_count": null,
   "metadata": {},
   "outputs": [],
   "source": [
    "lin_trans_list"
   ]
  },
  {
   "cell_type": "code",
   "execution_count": null,
   "metadata": {},
   "outputs": [],
   "source": [
    "def DecryptPassword(password):\n",
    "    passw = block_to_byte(password)\n",
    "    result = \"\"\n",
    "    for index in range(8):\n",
    "        for ans in range(128):\n",
    "            temp1 = '{:0>8}'.format(format(ans, \"b\"))\n",
    "            tempa = bin_char[temp1[0:4]]\n",
    "            tempb = bin_char[temp1[4:8]]\n",
    "            inp = result + tempa + tempb + (16 - len(result) - 2) * 'f'\n",
    "            if ord(passw[index]) == cryptanalysis(block_to_byte(inp), lin_trans_list, E)[index]:\n",
    "                b = ans\n",
    "                temp1 = '{:0>8}'.format(format(b, \"b\"))\n",
    "                a = bin_char[temp1[0:4]], bin_char[temp1[4:8]]\n",
    "                result += a[0] + a[1]\n",
    "                break\n",
    "    result = block_to_byte(result)\n",
    "    return result"
   ]
  },
  {
   "cell_type": "code",
   "execution_count": null,
   "metadata": {},
   "outputs": [],
   "source": [
    "#ciphertext password in two blocks of 8 bytes\n",
    "c1 = \"jghrlgmnhsgfffjk\"\n",
    "c2 = \"gkikhrmjkrgigjmu\"\n",
    "#plaintexts corresponding to them\n",
    "p1 = DecryptPassword(c1)\n",
    "p2 = DecryptPassword(c2)\n",
    "#printing the plaintext password\n",
    "print(p1+p2)"
   ]
  }
 ],
 "metadata": {
  "kernelspec": {
   "display_name": "Python 3",
   "language": "python",
   "name": "python3"
  },
  "language_info": {
   "codemirror_mode": {
    "name": "ipython",
    "version": 3
   },
   "file_extension": ".py",
   "mimetype": "text/x-python",
   "name": "python",
   "nbconvert_exporter": "python",
   "pygments_lexer": "ipython3",
   "version": "3.11.1"
  },
  "orig_nbformat": 4
 },
 "nbformat": 4,
 "nbformat_minor": 2
}
