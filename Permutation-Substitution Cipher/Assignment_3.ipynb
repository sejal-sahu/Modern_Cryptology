{
 "cells": [
  {
   "cell_type": "code",
   "execution_count": 318,
   "metadata": {},
   "outputs": [],
   "source": [
    "# ciphertext\n",
    "ciphertext = \"\"\"qmnjvsa nv wewc flct vprj tj tvvplvl fv xja vqildhc\n",
    "xmlnvc nacyclpa fc gyt vfvw. fv wgqyp, pqq pqcs y wsq\n",
    "rx qmnjvafy cgv tlvhf cw tyl aeuq fv xja tkbv cqnsqs.\n",
    "lhf avawnc cv eas fuqb qvq tc yllrqr xxwa cfy. psdc uqf\n",
    "avrqc gefq pyat trac xwv taa wwd dv eas flcbq. vd trawm\n",
    "vupq quw x decgqcwt, yq yafl vlqs yqklhq! snafq vml\n",
    "lhvqpawr nqg_vfusr_ec_wawy qp fn wgawdgf.\"\"\""
   ]
  },
  {
   "cell_type": "code",
   "execution_count": 319,
   "metadata": {},
   "outputs": [
    {
     "name": "stdout",
     "output_type": "stream",
     "text": [
      "284\n"
     ]
    }
   ],
   "source": [
    "#count the number of alphabets in ciphertext\n",
    "count=0\n",
    "for i in ciphertext:       \n",
    "    if(i.isalpha()):\n",
    "        count+=1 \n",
    "print(count)"
   ]
  },
  {
   "cell_type": "code",
   "execution_count": 320,
   "metadata": {},
   "outputs": [
    {
     "name": "stdout",
     "output_type": "stream",
     "text": [
      "qmnjvsanvwewcflctvprjtjtvvplvlfvxjavqildhcxmlnvcnacyclpafcgytvfvwfvwgqyppqqpqcsywsqrxqmnjvafycgvtlvhfcwtylaeuqfvxjatkbvcqnsqslhfavawnccveasfuqbqvqtcyllrqrxxwacfypsdcuqfavrqcgefqpyattracxwvtaawwddveasflcbqvdtrawmvupqquwxdecgqcwtyqyaflvlqsyqklhqsnafqvmllhvqpawrnqgvfusrecwawyqpfnwgawdgf\n"
     ]
    }
   ],
   "source": [
    "#cipher is ciphertext with only alphabets\n",
    "cipher=\"\"\n",
    "for i in ciphertext:       # i holds each character in String s for every iteration of loop\n",
    "    if(i.isalpha()):\n",
    "        cipher=cipher+i\n",
    "print(cipher)"
   ]
  },
  {
   "cell_type": "code",
   "execution_count": 321,
   "metadata": {},
   "outputs": [
    {
     "name": "stdout",
     "output_type": "stream",
     "text": [
      "q -> 8.2%\n",
      "v -> 7.9%\n",
      "a -> 6.3%\n",
      "c -> 6.0%\n",
      "w -> 5.2%\n",
      "f -> 5.2%\n",
      "l -> 4.7%\n",
      "t -> 3.6%\n",
      "y -> 3.6%\n",
      "s -> 3.0%\n",
      "p -> 3.0%\n",
      "n -> 2.7%\n",
      "r -> 2.5%\n",
      "x -> 2.2%\n",
      "g -> 2.2%\n",
      "e -> 1.9%\n",
      "d -> 1.9%\n",
      "j -> 1.6%\n",
      "u -> 1.6%\n",
      "m -> 1.4%\n",
      "h -> 1.4%\n",
      "b -> 0.8%\n",
      "k -> 0.5%\n",
      "i -> 0.3%\n"
     ]
    }
   ],
   "source": [
    "#print frequency of each letter\n",
    "import operator\n",
    "\n",
    "temp={}\n",
    "for char in ciphertext:\n",
    "    if char.isalpha():\n",
    "        temp[char.lower()]=temp.get(char.lower(),0)+1\n",
    "res=dict(sorted(temp.items(), key=operator.itemgetter(1),reverse=True))\n",
    "for key,value in res.items():\n",
    "    print(\"{} -> {:.1f}%\".format(key, value/len(ciphertext)*100))"
   ]
  },
  {
   "cell_type": "code",
   "execution_count": 322,
   "metadata": {},
   "outputs": [],
   "source": [
    "import numpy as np\n",
    "from itertools import permutations\n",
    "from collections import Counter"
   ]
  },
  {
   "cell_type": "code",
   "execution_count": 323,
   "metadata": {},
   "outputs": [],
   "source": [
    "#takes string and block permutation and returns the permuted string\n",
    "def blockpermute(str, p):\n",
    "    l=len(p)\n",
    "    res=\"\"\n",
    "    i=0\n",
    "    for ik in range(len(str)):\n",
    "        temp=str[i:i+l]\n",
    "        for j in range(l):\n",
    "            res=res+temp[p[j]]\n",
    "        i=i+l\n",
    "        if i>=len(str):\n",
    "            break\n",
    "        \n",
    "    return res"
   ]
  },
  {
   "cell_type": "code",
   "execution_count": 344,
   "metadata": {},
   "outputs": [
    {
     "name": "stdout",
     "output_type": "stream",
     "text": [
      "[1 0 4 2 3] fa -> 4.6%\n",
      "[2 4 0 1 3] af -> 3.9%\n",
      "[3 1 0 4 2] fa -> 3.9%\n",
      "[3 2 4 0 1] af -> 5.4%\n"
     ]
    }
   ],
   "source": [
    "perms=np.array(list(permutations('01234'))).astype(int)\n",
    "c=cipher[0:280]       #taking only the multiple of 5 for checking\n",
    "for p in perms:\n",
    "    res=blockpermute(c,p)\n",
    "    \n",
    "    cnt = Counter(res[x:x+2] for x in range(len(c) - 1))\n",
    "    \n",
    "    res=dict(sorted(cnt.items(), key=operator.itemgetter(1),reverse=True))\n",
    "\n",
    "    for key,value in res.items():\n",
    "        if value>10:\n",
    "            print(\"{} {} -> {:.1f}%\".format(p[0:5],key, value/len(c)*100))\n",
    "        break\n",
    "    cnt.clear()"
   ]
  },
  {
   "cell_type": "code",
   "execution_count": 327,
   "metadata": {},
   "outputs": [
    {
     "name": "stdout",
     "output_type": "stream",
     "text": [
      "280\n"
     ]
    }
   ],
   "source": [
    "permuted_cipher = blockpermute(c,[3, 2, 4, 0, 1])\n",
    "print(len(permuted_cipher))"
   ]
  },
  {
   "cell_type": "code",
   "execution_count": 345,
   "metadata": {},
   "outputs": [
    {
     "name": "stdout",
     "output_type": "stream",
     "text": [
      "jnvqmvn ws afcl ewpv rctt jv jtvllvp jx afv lidvqmx\n",
      "lhcnca nvlcpcyg cy afv fwtv. gw qfvqp, qyp scyp q rqx\n",
      "ws jnvqmcyg afv lhvtt wy fcu eqla jx afv vbct kqssqn.\n",
      "afv lhcnca ws afv eqbv uqy cl qtrqxl rcaf xwd. scyp afv\n",
      "uqgce rqyp afqa rctt tva xwd wda ws afv eqbvl. ca rwdtp\n",
      "uqmv xwd q uqgcecqy, yw tvll afqy kqssqn! lhvqm afv\n",
      "hqllrwnp afv_uqgce_ws_rqyp aw gw afnwdgf.\n"
     ]
    }
   ],
   "source": [
    "#sub is permuted cipher along with the spaces and punctuations like original cipher\n",
    "i=0\n",
    "sub=\"\"\n",
    "for s in ciphertext:\n",
    "    if s.isalpha() and i<280:\n",
    "        sub=sub+permuted_cipher[i]\n",
    "        i+=1\n",
    "    else:\n",
    "        sub+=s\n",
    "print(sub)"
   ]
  },
  {
   "cell_type": "code",
   "execution_count": 346,
   "metadata": {},
   "outputs": [
    {
     "name": "stdout",
     "output_type": "stream",
     "text": [
      "breaker of this code will be blessed by the squeaky\n",
      "spirit residing in the hole. go ahead, and find a way\n",
      "of breaking the spell on him cast by the evil jaffar.\n",
      "the spirit of the cave man is always with you. find the\n",
      "magic wand that will let you out of the caves. it would\n",
      "make you a magician, no less than jaffar! speak the\n",
      "password the_magic_of_wand to go through.\n"
     ]
    }
   ],
   "source": [
    "#substitution same as assignment 1\n",
    "alphabet = 'abcdefghijklmnopqrstuvwxyz'\n",
    "key = 'tviuchgpqbjskr?dawflmeoyn?'\n",
    "def decrypt(ciphertext, key, alphabet):\n",
    "    keyMap = dict(zip(alphabet, key))\n",
    "    return ''.join(keyMap.get(c, c) for c in ciphertext)\n",
    "\n",
    "plaintext = decrypt(sub, key, alphabet)\n",
    "\n",
    "print(plaintext)"
   ]
  }
 ],
 "metadata": {
  "kernelspec": {
   "display_name": "Python 3",
   "language": "python",
   "name": "python3"
  },
  "language_info": {
   "codemirror_mode": {
    "name": "ipython",
    "version": 3
   },
   "file_extension": ".py",
   "mimetype": "text/x-python",
   "name": "python",
   "nbconvert_exporter": "python",
   "pygments_lexer": "ipython3",
   "version": "3.11.1"
  },
  "orig_nbformat": 4,
  "vscode": {
   "interpreter": {
    "hash": "0faa38786cb8d799a662ac187ff469a21349f73f45b74161b1b5235d650a7d6a"
   }
  }
 },
 "nbformat": 4,
 "nbformat_minor": 2
}
